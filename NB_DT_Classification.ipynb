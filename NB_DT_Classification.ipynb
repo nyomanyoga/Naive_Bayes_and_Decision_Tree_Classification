{
  "nbformat": 4,
  "nbformat_minor": 0,
  "metadata": {
    "colab": {
      "name": "Breast_Cancer.ipynb",
      "provenance": [],
      "collapsed_sections": []
    },
    "kernelspec": {
      "display_name": "Python 3",
      "name": "python3"
    }
  },
  "cells": [
    {
      "cell_type": "code",
      "metadata": {
        "id": "bnYMuB9hNl9U"
      },
      "source": [
        "import pandas as pd, matplotlib.pyplot as plt, numpy as np\n",
        "from sklearn import preprocessing\n",
        "from sklearn.preprocessing import LabelEncoder\n",
        "from sklearn.model_selection import train_test_split\n",
        "from sklearn.naive_bayes import GaussianNB\n",
        "import seaborn as sns\n",
        "from sklearn.metrics import classification_report, confusion_matrix, accuracy_score, precision_score, r2_score\n",
        "from sklearn.tree import DecisionTreeClassifier"
      ],
      "execution_count": 92,
      "outputs": []
    },
    {
      "cell_type": "code",
      "metadata": {
        "id": "7CXD91PQmEGL",
        "colab": {
          "base_uri": "https://localhost:8080/"
        },
        "outputId": "c54bd79b-703b-4afe-ee93-c379edf67494"
      },
      "source": [
        "# load data breast cancer\n",
        "url = 'https://raw.githubusercontent.com/nyomanyoga/Damin/master/Datasets_Breast_Cancer.csv'\n",
        "data = pd.read_csv(url)\n",
        "\n",
        "# menampilkan data dari dataframe kolom 0 sampai 10\n",
        "data = data.iloc[:,0:10]\n",
        "\n",
        "# conversi data ke object string\n",
        "data = data.astype(str)\n",
        "\n",
        "# mencari missing value\n",
        "atr = ['Class','age','menopause','tumor-size','inv-nodes','node-caps','deg-malig','breast-quad','irradiat']\n",
        "for i in range (len(atr)):\n",
        "  data.replace({atr[i]: {'?': np.nan}}, regex=False,inplace=True)\n",
        "\n",
        "data.isnull().sum()"
      ],
      "execution_count": 93,
      "outputs": [
        {
          "output_type": "execute_result",
          "data": {
            "text/plain": [
              "Class          0\n",
              "age            0\n",
              "menopause      0\n",
              "tumor-size     0\n",
              "inv-nodes      0\n",
              "node-caps      8\n",
              "deg-malig      0\n",
              "breast         0\n",
              "breast-quad    1\n",
              "irradiat       0\n",
              "dtype: int64"
            ]
          },
          "metadata": {
            "tags": []
          },
          "execution_count": 93
        }
      ]
    },
    {
      "cell_type": "code",
      "metadata": {
        "id": "F3qCyyA9uFQP",
        "colab": {
          "base_uri": "https://localhost:8080/",
          "height": 206
        },
        "outputId": "80eae249-1713-4f5b-a478-ba856776486f"
      },
      "source": [
        "data.head()"
      ],
      "execution_count": 94,
      "outputs": [
        {
          "output_type": "execute_result",
          "data": {
            "text/html": [
              "<div>\n",
              "<style scoped>\n",
              "    .dataframe tbody tr th:only-of-type {\n",
              "        vertical-align: middle;\n",
              "    }\n",
              "\n",
              "    .dataframe tbody tr th {\n",
              "        vertical-align: top;\n",
              "    }\n",
              "\n",
              "    .dataframe thead th {\n",
              "        text-align: right;\n",
              "    }\n",
              "</style>\n",
              "<table border=\"1\" class=\"dataframe\">\n",
              "  <thead>\n",
              "    <tr style=\"text-align: right;\">\n",
              "      <th></th>\n",
              "      <th>Class</th>\n",
              "      <th>age</th>\n",
              "      <th>menopause</th>\n",
              "      <th>tumor-size</th>\n",
              "      <th>inv-nodes</th>\n",
              "      <th>node-caps</th>\n",
              "      <th>deg-malig</th>\n",
              "      <th>breast</th>\n",
              "      <th>breast-quad</th>\n",
              "      <th>irradiat</th>\n",
              "    </tr>\n",
              "  </thead>\n",
              "  <tbody>\n",
              "    <tr>\n",
              "      <th>0</th>\n",
              "      <td>no-recurrence-events</td>\n",
              "      <td>30-39</td>\n",
              "      <td>premeno</td>\n",
              "      <td>30-34</td>\n",
              "      <td>0-2</td>\n",
              "      <td>no</td>\n",
              "      <td>3</td>\n",
              "      <td>left</td>\n",
              "      <td>left_low</td>\n",
              "      <td>no</td>\n",
              "    </tr>\n",
              "    <tr>\n",
              "      <th>1</th>\n",
              "      <td>no-recurrence-events</td>\n",
              "      <td>40-49</td>\n",
              "      <td>premeno</td>\n",
              "      <td>20-24</td>\n",
              "      <td>0-2</td>\n",
              "      <td>no</td>\n",
              "      <td>2</td>\n",
              "      <td>right</td>\n",
              "      <td>right_up</td>\n",
              "      <td>no</td>\n",
              "    </tr>\n",
              "    <tr>\n",
              "      <th>2</th>\n",
              "      <td>no-recurrence-events</td>\n",
              "      <td>40-49</td>\n",
              "      <td>premeno</td>\n",
              "      <td>20-24</td>\n",
              "      <td>0-2</td>\n",
              "      <td>no</td>\n",
              "      <td>2</td>\n",
              "      <td>left</td>\n",
              "      <td>left_low</td>\n",
              "      <td>no</td>\n",
              "    </tr>\n",
              "    <tr>\n",
              "      <th>3</th>\n",
              "      <td>no-recurrence-events</td>\n",
              "      <td>60-69</td>\n",
              "      <td>ge40</td>\n",
              "      <td>15-19</td>\n",
              "      <td>0-2</td>\n",
              "      <td>no</td>\n",
              "      <td>2</td>\n",
              "      <td>right</td>\n",
              "      <td>left_up</td>\n",
              "      <td>no</td>\n",
              "    </tr>\n",
              "    <tr>\n",
              "      <th>4</th>\n",
              "      <td>no-recurrence-events</td>\n",
              "      <td>40-49</td>\n",
              "      <td>premeno</td>\n",
              "      <td>0-4</td>\n",
              "      <td>0-2</td>\n",
              "      <td>no</td>\n",
              "      <td>2</td>\n",
              "      <td>right</td>\n",
              "      <td>right_low</td>\n",
              "      <td>no</td>\n",
              "    </tr>\n",
              "  </tbody>\n",
              "</table>\n",
              "</div>"
            ],
            "text/plain": [
              "                  Class    age menopause  ... breast breast-quad irradiat\n",
              "0  no-recurrence-events  30-39   premeno  ...   left    left_low       no\n",
              "1  no-recurrence-events  40-49   premeno  ...  right    right_up       no\n",
              "2  no-recurrence-events  40-49   premeno  ...   left    left_low       no\n",
              "3  no-recurrence-events  60-69      ge40  ...  right     left_up       no\n",
              "4  no-recurrence-events  40-49   premeno  ...  right   right_low       no\n",
              "\n",
              "[5 rows x 10 columns]"
            ]
          },
          "metadata": {
            "tags": []
          },
          "execution_count": 94
        }
      ]
    },
    {
      "cell_type": "code",
      "metadata": {
        "id": "y5zlahWzfcB5"
      },
      "source": [
        "# Menghapus data kosong\n",
        "data.dropna(inplace=True)\n",
        "\n",
        "# drop colom\n",
        "data=data.drop(columns=['breast'])"
      ],
      "execution_count": 95,
      "outputs": []
    },
    {
      "cell_type": "code",
      "metadata": {
        "id": "UhEwDAjmAMCG",
        "colab": {
          "base_uri": "https://localhost:8080/",
          "height": 423
        },
        "outputId": "68edfd17-4e7c-4087-cb76-11ff4a886778"
      },
      "source": [
        "# normalisasi data to numeric\n",
        "for i in range(len(atr)):\n",
        "  data.to_numpy()[:,i]=LabelEncoder().fit_transform(data.to_numpy()[:,i])\n",
        "\n",
        "# convert to numeric\n",
        "for j in range(len(atr)):\n",
        "  data[atr[j]] = pd.to_numeric(data[atr[j]])\n",
        "\n",
        "# normalisasi data with minmax\n",
        "minmax=preprocessing.MinMaxScaler().fit_transform(data)\n",
        "data=pd.DataFrame(minmax, index=data.index, columns=data.columns)\n",
        "\n",
        "data"
      ],
      "execution_count": 96,
      "outputs": [
        {
          "output_type": "execute_result",
          "data": {
            "text/html": [
              "<div>\n",
              "<style scoped>\n",
              "    .dataframe tbody tr th:only-of-type {\n",
              "        vertical-align: middle;\n",
              "    }\n",
              "\n",
              "    .dataframe tbody tr th {\n",
              "        vertical-align: top;\n",
              "    }\n",
              "\n",
              "    .dataframe thead th {\n",
              "        text-align: right;\n",
              "    }\n",
              "</style>\n",
              "<table border=\"1\" class=\"dataframe\">\n",
              "  <thead>\n",
              "    <tr style=\"text-align: right;\">\n",
              "      <th></th>\n",
              "      <th>Class</th>\n",
              "      <th>age</th>\n",
              "      <th>menopause</th>\n",
              "      <th>tumor-size</th>\n",
              "      <th>inv-nodes</th>\n",
              "      <th>node-caps</th>\n",
              "      <th>deg-malig</th>\n",
              "      <th>breast-quad</th>\n",
              "      <th>irradiat</th>\n",
              "    </tr>\n",
              "  </thead>\n",
              "  <tbody>\n",
              "    <tr>\n",
              "      <th>0</th>\n",
              "      <td>0.0</td>\n",
              "      <td>0.2</td>\n",
              "      <td>1.0</td>\n",
              "      <td>0.5</td>\n",
              "      <td>0.000000</td>\n",
              "      <td>0.0</td>\n",
              "      <td>1.0</td>\n",
              "      <td>0.25</td>\n",
              "      <td>0.0</td>\n",
              "    </tr>\n",
              "    <tr>\n",
              "      <th>1</th>\n",
              "      <td>0.0</td>\n",
              "      <td>0.4</td>\n",
              "      <td>1.0</td>\n",
              "      <td>0.3</td>\n",
              "      <td>0.000000</td>\n",
              "      <td>0.0</td>\n",
              "      <td>0.5</td>\n",
              "      <td>1.00</td>\n",
              "      <td>0.0</td>\n",
              "    </tr>\n",
              "    <tr>\n",
              "      <th>2</th>\n",
              "      <td>0.0</td>\n",
              "      <td>0.4</td>\n",
              "      <td>1.0</td>\n",
              "      <td>0.3</td>\n",
              "      <td>0.000000</td>\n",
              "      <td>0.0</td>\n",
              "      <td>0.5</td>\n",
              "      <td>0.25</td>\n",
              "      <td>0.0</td>\n",
              "    </tr>\n",
              "    <tr>\n",
              "      <th>3</th>\n",
              "      <td>0.0</td>\n",
              "      <td>0.8</td>\n",
              "      <td>0.0</td>\n",
              "      <td>0.2</td>\n",
              "      <td>0.000000</td>\n",
              "      <td>0.0</td>\n",
              "      <td>0.5</td>\n",
              "      <td>0.50</td>\n",
              "      <td>0.0</td>\n",
              "    </tr>\n",
              "    <tr>\n",
              "      <th>4</th>\n",
              "      <td>0.0</td>\n",
              "      <td>0.4</td>\n",
              "      <td>1.0</td>\n",
              "      <td>0.0</td>\n",
              "      <td>0.000000</td>\n",
              "      <td>0.0</td>\n",
              "      <td>0.5</td>\n",
              "      <td>0.75</td>\n",
              "      <td>0.0</td>\n",
              "    </tr>\n",
              "    <tr>\n",
              "      <th>...</th>\n",
              "      <td>...</td>\n",
              "      <td>...</td>\n",
              "      <td>...</td>\n",
              "      <td>...</td>\n",
              "      <td>...</td>\n",
              "      <td>...</td>\n",
              "      <td>...</td>\n",
              "      <td>...</td>\n",
              "      <td>...</td>\n",
              "    </tr>\n",
              "    <tr>\n",
              "      <th>281</th>\n",
              "      <td>1.0</td>\n",
              "      <td>0.2</td>\n",
              "      <td>1.0</td>\n",
              "      <td>0.5</td>\n",
              "      <td>0.000000</td>\n",
              "      <td>0.0</td>\n",
              "      <td>0.5</td>\n",
              "      <td>0.50</td>\n",
              "      <td>0.0</td>\n",
              "    </tr>\n",
              "    <tr>\n",
              "      <th>282</th>\n",
              "      <td>1.0</td>\n",
              "      <td>0.2</td>\n",
              "      <td>1.0</td>\n",
              "      <td>0.3</td>\n",
              "      <td>0.000000</td>\n",
              "      <td>0.0</td>\n",
              "      <td>1.0</td>\n",
              "      <td>0.50</td>\n",
              "      <td>1.0</td>\n",
              "    </tr>\n",
              "    <tr>\n",
              "      <th>283</th>\n",
              "      <td>1.0</td>\n",
              "      <td>0.8</td>\n",
              "      <td>0.0</td>\n",
              "      <td>0.3</td>\n",
              "      <td>0.000000</td>\n",
              "      <td>0.0</td>\n",
              "      <td>0.0</td>\n",
              "      <td>0.50</td>\n",
              "      <td>0.0</td>\n",
              "    </tr>\n",
              "    <tr>\n",
              "      <th>284</th>\n",
              "      <td>1.0</td>\n",
              "      <td>0.4</td>\n",
              "      <td>0.0</td>\n",
              "      <td>0.5</td>\n",
              "      <td>0.666667</td>\n",
              "      <td>0.0</td>\n",
              "      <td>1.0</td>\n",
              "      <td>0.25</td>\n",
              "      <td>0.0</td>\n",
              "    </tr>\n",
              "    <tr>\n",
              "      <th>285</th>\n",
              "      <td>1.0</td>\n",
              "      <td>0.6</td>\n",
              "      <td>0.0</td>\n",
              "      <td>0.5</td>\n",
              "      <td>0.666667</td>\n",
              "      <td>0.0</td>\n",
              "      <td>1.0</td>\n",
              "      <td>0.25</td>\n",
              "      <td>0.0</td>\n",
              "    </tr>\n",
              "  </tbody>\n",
              "</table>\n",
              "<p>277 rows × 9 columns</p>\n",
              "</div>"
            ],
            "text/plain": [
              "     Class  age  menopause  ...  deg-malig  breast-quad  irradiat\n",
              "0      0.0  0.2        1.0  ...        1.0         0.25       0.0\n",
              "1      0.0  0.4        1.0  ...        0.5         1.00       0.0\n",
              "2      0.0  0.4        1.0  ...        0.5         0.25       0.0\n",
              "3      0.0  0.8        0.0  ...        0.5         0.50       0.0\n",
              "4      0.0  0.4        1.0  ...        0.5         0.75       0.0\n",
              "..     ...  ...        ...  ...        ...          ...       ...\n",
              "281    1.0  0.2        1.0  ...        0.5         0.50       0.0\n",
              "282    1.0  0.2        1.0  ...        1.0         0.50       1.0\n",
              "283    1.0  0.8        0.0  ...        0.0         0.50       0.0\n",
              "284    1.0  0.4        0.0  ...        1.0         0.25       0.0\n",
              "285    1.0  0.6        0.0  ...        1.0         0.25       0.0\n",
              "\n",
              "[277 rows x 9 columns]"
            ]
          },
          "metadata": {
            "tags": []
          },
          "execution_count": 96
        }
      ]
    },
    {
      "cell_type": "code",
      "metadata": {
        "id": "ehS9q882Twil",
        "colab": {
          "base_uri": "https://localhost:8080/",
          "height": 340
        },
        "outputId": "8fad0174-ab49-46b2-ff4c-86a72968b938"
      },
      "source": [
        "print(data.columns)\n",
        "data.plot(kind='box')\n",
        "# data.hist()\n",
        "\n",
        "# data.info()"
      ],
      "execution_count": 97,
      "outputs": [
        {
          "output_type": "stream",
          "text": [
            "Index(['Class', 'age', 'menopause', 'tumor-size', 'inv-nodes', 'node-caps',\n",
            "       'deg-malig', 'breast-quad', 'irradiat'],\n",
            "      dtype='object')\n"
          ],
          "name": "stdout"
        },
        {
          "output_type": "execute_result",
          "data": {
            "text/plain": [
              "<matplotlib.axes._subplots.AxesSubplot at 0x7fbc658eb780>"
            ]
          },
          "metadata": {
            "tags": []
          },
          "execution_count": 97
        },
        {
          "output_type": "display_data",
          "data": {
            "image/png": "[encoded data removed]",
            "text/plain": [
              "<Figure size 432x288 with 1 Axes>"
            ]
          },
          "metadata": {
            "tags": [],
            "needs_background": "light"
          }
        }
      ]
    },
    {
      "cell_type": "code",
      "metadata": {
        "id": "f_cbo6jvqsNS",
        "colab": {
          "base_uri": "https://localhost:8080/",
          "height": 423
        },
        "outputId": "1e22a13f-a25b-4444-8573-b02265265f7d"
      },
      "source": [
        "# Menghapus outlier\n",
        "data=data[(data['tumor-size']<0.8) & (data['tumor-size']<0.8)]\n",
        "\n",
        "data"
      ],
      "execution_count": 98,
      "outputs": [
        {
          "output_type": "execute_result",
          "data": {
            "text/html": [
              "<div>\n",
              "<style scoped>\n",
              "    .dataframe tbody tr th:only-of-type {\n",
              "        vertical-align: middle;\n",
              "    }\n",
              "\n",
              "    .dataframe tbody tr th {\n",
              "        vertical-align: top;\n",
              "    }\n",
              "\n",
              "    .dataframe thead th {\n",
              "        text-align: right;\n",
              "    }\n",
              "</style>\n",
              "<table border=\"1\" class=\"dataframe\">\n",
              "  <thead>\n",
              "    <tr style=\"text-align: right;\">\n",
              "      <th></th>\n",
              "      <th>Class</th>\n",
              "      <th>age</th>\n",
              "      <th>menopause</th>\n",
              "      <th>tumor-size</th>\n",
              "      <th>inv-nodes</th>\n",
              "      <th>node-caps</th>\n",
              "      <th>deg-malig</th>\n",
              "      <th>breast-quad</th>\n",
              "      <th>irradiat</th>\n",
              "    </tr>\n",
              "  </thead>\n",
              "  <tbody>\n",
              "    <tr>\n",
              "      <th>0</th>\n",
              "      <td>0.0</td>\n",
              "      <td>0.2</td>\n",
              "      <td>1.0</td>\n",
              "      <td>0.5</td>\n",
              "      <td>0.000000</td>\n",
              "      <td>0.0</td>\n",
              "      <td>1.0</td>\n",
              "      <td>0.25</td>\n",
              "      <td>0.0</td>\n",
              "    </tr>\n",
              "    <tr>\n",
              "      <th>1</th>\n",
              "      <td>0.0</td>\n",
              "      <td>0.4</td>\n",
              "      <td>1.0</td>\n",
              "      <td>0.3</td>\n",
              "      <td>0.000000</td>\n",
              "      <td>0.0</td>\n",
              "      <td>0.5</td>\n",
              "      <td>1.00</td>\n",
              "      <td>0.0</td>\n",
              "    </tr>\n",
              "    <tr>\n",
              "      <th>2</th>\n",
              "      <td>0.0</td>\n",
              "      <td>0.4</td>\n",
              "      <td>1.0</td>\n",
              "      <td>0.3</td>\n",
              "      <td>0.000000</td>\n",
              "      <td>0.0</td>\n",
              "      <td>0.5</td>\n",
              "      <td>0.25</td>\n",
              "      <td>0.0</td>\n",
              "    </tr>\n",
              "    <tr>\n",
              "      <th>3</th>\n",
              "      <td>0.0</td>\n",
              "      <td>0.8</td>\n",
              "      <td>0.0</td>\n",
              "      <td>0.2</td>\n",
              "      <td>0.000000</td>\n",
              "      <td>0.0</td>\n",
              "      <td>0.5</td>\n",
              "      <td>0.50</td>\n",
              "      <td>0.0</td>\n",
              "    </tr>\n",
              "    <tr>\n",
              "      <th>4</th>\n",
              "      <td>0.0</td>\n",
              "      <td>0.4</td>\n",
              "      <td>1.0</td>\n",
              "      <td>0.0</td>\n",
              "      <td>0.000000</td>\n",
              "      <td>0.0</td>\n",
              "      <td>0.5</td>\n",
              "      <td>0.75</td>\n",
              "      <td>0.0</td>\n",
              "    </tr>\n",
              "    <tr>\n",
              "      <th>...</th>\n",
              "      <td>...</td>\n",
              "      <td>...</td>\n",
              "      <td>...</td>\n",
              "      <td>...</td>\n",
              "      <td>...</td>\n",
              "      <td>...</td>\n",
              "      <td>...</td>\n",
              "      <td>...</td>\n",
              "      <td>...</td>\n",
              "    </tr>\n",
              "    <tr>\n",
              "      <th>281</th>\n",
              "      <td>1.0</td>\n",
              "      <td>0.2</td>\n",
              "      <td>1.0</td>\n",
              "      <td>0.5</td>\n",
              "      <td>0.000000</td>\n",
              "      <td>0.0</td>\n",
              "      <td>0.5</td>\n",
              "      <td>0.50</td>\n",
              "      <td>0.0</td>\n",
              "    </tr>\n",
              "    <tr>\n",
              "      <th>282</th>\n",
              "      <td>1.0</td>\n",
              "      <td>0.2</td>\n",
              "      <td>1.0</td>\n",
              "      <td>0.3</td>\n",
              "      <td>0.000000</td>\n",
              "      <td>0.0</td>\n",
              "      <td>1.0</td>\n",
              "      <td>0.50</td>\n",
              "      <td>1.0</td>\n",
              "    </tr>\n",
              "    <tr>\n",
              "      <th>283</th>\n",
              "      <td>1.0</td>\n",
              "      <td>0.8</td>\n",
              "      <td>0.0</td>\n",
              "      <td>0.3</td>\n",
              "      <td>0.000000</td>\n",
              "      <td>0.0</td>\n",
              "      <td>0.0</td>\n",
              "      <td>0.50</td>\n",
              "      <td>0.0</td>\n",
              "    </tr>\n",
              "    <tr>\n",
              "      <th>284</th>\n",
              "      <td>1.0</td>\n",
              "      <td>0.4</td>\n",
              "      <td>0.0</td>\n",
              "      <td>0.5</td>\n",
              "      <td>0.666667</td>\n",
              "      <td>0.0</td>\n",
              "      <td>1.0</td>\n",
              "      <td>0.25</td>\n",
              "      <td>0.0</td>\n",
              "    </tr>\n",
              "    <tr>\n",
              "      <th>285</th>\n",
              "      <td>1.0</td>\n",
              "      <td>0.6</td>\n",
              "      <td>0.0</td>\n",
              "      <td>0.5</td>\n",
              "      <td>0.666667</td>\n",
              "      <td>0.0</td>\n",
              "      <td>1.0</td>\n",
              "      <td>0.25</td>\n",
              "      <td>0.0</td>\n",
              "    </tr>\n",
              "  </tbody>\n",
              "</table>\n",
              "<p>262 rows × 9 columns</p>\n",
              "</div>"
            ],
            "text/plain": [
              "     Class  age  menopause  ...  deg-malig  breast-quad  irradiat\n",
              "0      0.0  0.2        1.0  ...        1.0         0.25       0.0\n",
              "1      0.0  0.4        1.0  ...        0.5         1.00       0.0\n",
              "2      0.0  0.4        1.0  ...        0.5         0.25       0.0\n",
              "3      0.0  0.8        0.0  ...        0.5         0.50       0.0\n",
              "4      0.0  0.4        1.0  ...        0.5         0.75       0.0\n",
              "..     ...  ...        ...  ...        ...          ...       ...\n",
              "281    1.0  0.2        1.0  ...        0.5         0.50       0.0\n",
              "282    1.0  0.2        1.0  ...        1.0         0.50       1.0\n",
              "283    1.0  0.8        0.0  ...        0.0         0.50       0.0\n",
              "284    1.0  0.4        0.0  ...        1.0         0.25       0.0\n",
              "285    1.0  0.6        0.0  ...        1.0         0.25       0.0\n",
              "\n",
              "[262 rows x 9 columns]"
            ]
          },
          "metadata": {
            "tags": []
          },
          "execution_count": 98
        }
      ]
    },
    {
      "cell_type": "code",
      "metadata": {
        "id": "Xat6xDcDSGOp",
        "colab": {
          "base_uri": "https://localhost:8080/",
          "height": 468
        },
        "outputId": "654f7574-c790-4a29-e1e7-5b45215de26a"
      },
      "source": [
        "data.hist()"
      ],
      "execution_count": 99,
      "outputs": [
        {
          "output_type": "execute_result",
          "data": {
            "text/plain": [
              "array([[<matplotlib.axes._subplots.AxesSubplot object at 0x7fbc65485a58>,\n",
              "        <matplotlib.axes._subplots.AxesSubplot object at 0x7fbc653e7be0>,\n",
              "        <matplotlib.axes._subplots.AxesSubplot object at 0x7fbc6539ae80>],\n",
              "       [<matplotlib.axes._subplots.AxesSubplot object at 0x7fbc65358240>,\n",
              "        <matplotlib.axes._subplots.AxesSubplot object at 0x7fbc6530a5c0>,\n",
              "        <matplotlib.axes._subplots.AxesSubplot object at 0x7fbc6533c940>],\n",
              "       [<matplotlib.axes._subplots.AxesSubplot object at 0x7fbc652ebcc0>,\n",
              "        <matplotlib.axes._subplots.AxesSubplot object at 0x7fbc652b2080>,\n",
              "        <matplotlib.axes._subplots.AxesSubplot object at 0x7fbc652b20b8>]],\n",
              "      dtype=object)"
            ]
          },
          "metadata": {
            "tags": []
          },
          "execution_count": 99
        },
        {
          "output_type": "display_data",
          "data": {
            "image/png": "[encoded data removed]",
            "text/plain": [
              "<Figure size 432x288 with 9 Axes>"
            ]
          },
          "metadata": {
            "tags": [],
            "needs_background": "light"
          }
        }
      ]
    },
    {
      "cell_type": "code",
      "metadata": {
        "id": "TqKKqpC7OLjj"
      },
      "source": [
        "y = data['Class']\n",
        "x = data.drop(columns=['Class'])\n",
        "\n",
        "# Membagi data train dengan data test (80 : 20)\n",
        "x_train, x_test, y_train, y_test = train_test_split(x, y, test_size=0.2)"
      ],
      "execution_count": 100,
      "outputs": []
    },
    {
      "cell_type": "markdown",
      "metadata": {
        "id": "9qw3aI0DqPAB"
      },
      "source": [
        "Naive Bayes and Decision Tree"
      ]
    },
    {
      "cell_type": "code",
      "metadata": {
        "id": "HZIamablD2vM"
      },
      "source": [
        "# Naive Bayes Library\n",
        "NB = GaussianNB()\n",
        "NB.fit(x_train, y_train)\n",
        "y_predict2 = NB.predict(x_test)\n",
        "\n",
        "# Decision Tree\n",
        "classifier = DecisionTreeClassifier()\n",
        "classifier.fit(x_train, y_train)\n",
        "y_pred = classifier.predict(x_test)"
      ],
      "execution_count": 101,
      "outputs": []
    },
    {
      "cell_type": "code",
      "metadata": {
        "id": "_2fmuT-EwdlZ",
        "colab": {
          "base_uri": "https://localhost:8080/"
        },
        "outputId": "6685dd7d-d4e4-43dc-a092-2367c398429a"
      },
      "source": [
        "print(\"Presision\")\n",
        "print('Decision Tree\\t:',precision_score(y_test, y_pred)*100, '%')\n",
        "print('Naive Bayes\\t:',precision_score(y_test, y_predict2)*100, '%')\n",
        "\n",
        "print('\\n')\n",
        "\n",
        "print(\"Accuracy\")\n",
        "print('Decision Tree\\t:',accuracy_score(y_test, y_pred)*100, '%')\n",
        "print('Naive Bayes\\t:',accuracy_score(y_test, y_predict2)*100, '%')\n",
        "\n",
        "print('\\n')\n",
        "\n",
        "print(\"Decision Tree\")\n",
        "print(confusion_matrix(y_test, y_pred))\n",
        "print(classification_report(y_test, y_pred))\n",
        "print(\"========================================================\")\n",
        "print(\"Naive Bayes\")\n",
        "print(confusion_matrix(y_test, y_predict2))\n",
        "print(classification_report(y_test, y_predict2))"
      ],
      "execution_count": 102,
      "outputs": [
        {
          "output_type": "stream",
          "text": [
            "Presision\n",
            "Decision Tree\t: 42.10526315789473 %\n",
            "Naive Bayes\t: 68.75 %\n",
            "\n",
            "\n",
            "Accuracy\n",
            "Decision Tree\t: 66.0377358490566 %\n",
            "Naive Bayes\t: 83.01886792452831 %\n",
            "\n",
            "\n",
            "Decision Tree\n",
            "[[27 11]\n",
            " [ 7  8]]\n",
            "              precision    recall  f1-score   support\n",
            "\n",
            "         0.0       0.79      0.71      0.75        38\n",
            "         1.0       0.42      0.53      0.47        15\n",
            "\n",
            "    accuracy                           0.66        53\n",
            "   macro avg       0.61      0.62      0.61        53\n",
            "weighted avg       0.69      0.66      0.67        53\n",
            "\n",
            "========================================================\n",
            "Naive Bayes\n",
            "[[33  5]\n",
            " [ 4 11]]\n",
            "              precision    recall  f1-score   support\n",
            "\n",
            "         0.0       0.89      0.87      0.88        38\n",
            "         1.0       0.69      0.73      0.71        15\n",
            "\n",
            "    accuracy                           0.83        53\n",
            "   macro avg       0.79      0.80      0.79        53\n",
            "weighted avg       0.83      0.83      0.83        53\n",
            "\n"
          ],
          "name": "stdout"
        }
      ]
    },
    {
      "cell_type": "code",
      "metadata": {
        "id": "DF4YFmYyxVof"
      },
      "source": [
        "# df_DecisionTree=pd.DataFrame({'Actual':y_test, 'Predicted':y_pred})\n",
        "# df_DecisionTree"
      ],
      "execution_count": 103,
      "outputs": []
    },
    {
      "cell_type": "code",
      "metadata": {
        "id": "vNZkn2_1s1bu"
      },
      "source": [
        "# df_NaiveBayes=pd.DataFrame({'Actual':y_test, 'Predicted':y_predict2})\n",
        "# df_NaiveBayes"
      ],
      "execution_count": 104,
      "outputs": []
    },
    {
      "cell_type": "markdown",
      "metadata": {
        "id": "AA_0RjQFtb_w"
      },
      "source": [
        "Referensi\n",
        "\n",
        "https://kuliahtif.wordpress.com/2019/12/10/klasifikasi-data-dengan-algoritma-decision-tree-menggunakan-sklearn-python/\n",
        "\n",
        "https://www.megabagus.id/machine-learning-decision-tree-classification/2/\n",
        "\n",
        "https://medium.com/warung-pintar/beberapa-cara-untuk-preprocessing-data-dalam-machine-learning-13cef4294614\n",
        "\n",
        "https://inixindojogja.co.id/memulai-machine-learning-di-python-bagian-2/"
      ]
    }
  ]
}